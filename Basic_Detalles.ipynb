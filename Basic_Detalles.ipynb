{
 "cells": [
  {
   "attachments": {},
   "cell_type": "markdown",
   "metadata": {},
   "source": [
    "### Librerias Importantes"
   ]
  },
  {
   "cell_type": "code",
   "execution_count": null,
   "metadata": {},
   "outputs": [],
   "source": [
    "from ursina import *\n",
    "from ursina.prefabs.first_person_controller import FirstPersonController"
   ]
  },
  {
   "attachments": {},
   "cell_type": "markdown",
   "metadata": {},
   "source": [
    "### Detector de Teclas"
   ]
  },
  {
   "cell_type": "code",
   "execution_count": null,
   "metadata": {},
   "outputs": [],
   "source": [
    "from ursina import *                    # Import the ursina engine\n",
    "import random                           # Import the random library\n",
    "\n",
    "app = Ursina()                          # Initialise your Ursina app\n",
    "\n",
    "def input(key):\n",
    "    if key == 'space':\n",
    "        pass\n",
    "    if key == 'c':\n",
    "        pass\n",
    "    \n",
    "def update():\n",
    "    if held_keys['q']:                               # If q is pressed\n",
    "        camera.position += (0, time.dt, 0)           # move up vertically\n",
    "    if held_keys['a']:                               # If a is pressed\n",
    "        camera.position -= (0, time.dt, 0)           # move down vertically\n",
    "\n",
    "\n",
    "app.run()                               # Run the app"
   ]
  }
 ],
 "metadata": {
  "kernelspec": {
   "display_name": "venv",
   "language": "python",
   "name": "python3"
  },
  "language_info": {
   "codemirror_mode": {
    "name": "ipython",
    "version": 3
   },
   "file_extension": ".py",
   "mimetype": "text/x-python",
   "name": "python",
   "nbconvert_exporter": "python",
   "pygments_lexer": "ipython3",
   "version": "3.11.3"
  },
  "orig_nbformat": 4
 },
 "nbformat": 4,
 "nbformat_minor": 2
}
